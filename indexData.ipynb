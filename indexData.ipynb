{
 "cells": [
  {
   "cell_type": "code",
   "execution_count": 1,
   "metadata": {},
   "outputs": [],
   "source": [
    "from elasticsearch import Elasticsearch"
   ]
  },
  {
   "cell_type": "code",
   "execution_count": 2,
   "metadata": {},
   "outputs": [
    {
     "data": {
      "text/plain": [
       "True"
      ]
     },
     "execution_count": 2,
     "metadata": {},
     "output_type": "execute_result"
    }
   ],
   "source": [
    "es = Elasticsearch(\n",
    "    \"https://localhost:9200\",\n",
    "    basic_auth=(\"elastic\",\"LQym+efHnUy9DbT-jtD2\"),\n",
    "    ca_certs=\"/Users/Mohamed/elasticsearch-8.9.1/config/certs/http_ca.crt\"\n",
    ")\n",
    "es.ping()"
   ]
  },
  {
   "cell_type": "markdown",
   "metadata": {},
   "source": [
    "## Prepare the data"
   ]
  },
  {
   "cell_type": "code",
   "execution_count": 3,
   "metadata": {},
   "outputs": [
    {
     "data": {
      "text/html": [
       "<div>\n",
       "<style scoped>\n",
       "    .dataframe tbody tr th:only-of-type {\n",
       "        vertical-align: middle;\n",
       "    }\n",
       "\n",
       "    .dataframe tbody tr th {\n",
       "        vertical-align: top;\n",
       "    }\n",
       "\n",
       "    .dataframe thead th {\n",
       "        text-align: right;\n",
       "    }\n",
       "</style>\n",
       "<table border=\"1\" class=\"dataframe\">\n",
       "  <thead>\n",
       "    <tr style=\"text-align: right;\">\n",
       "      <th></th>\n",
       "      <th>JobTitle</th>\n",
       "      <th>Company</th>\n",
       "      <th>Description</th>\n",
       "      <th>Date</th>\n",
       "      <th>location</th>\n",
       "      <th>Qualifications</th>\n",
       "      <th>Responsibilities</th>\n",
       "      <th>Skill</th>\n",
       "    </tr>\n",
       "  </thead>\n",
       "  <tbody>\n",
  "<tr>\n",
    "<th>Job ID</th>\n",
    "<th>Title</th>\n",
    "<th>Company</th>\n",
    "<th>Date</th>\n",
    "<th>Description</th>\n",
  "</tr>\n",
  "<tr>\n",
    "<td>10017413</td>\n",
    "<td>Software Engineer</td>\n",
    "<td>Tech Co.</td>\n",
    "<td>December 2023</td>\n",
    "<td>Looking for a skilled Software Engineer proficient in Java and React. Experience with Spring framework is a plus.</td>\n",
  "</tr>\n",
  "<tr>\n",
    "<td>10016283</td>\n",
    "<td>Senior Software Developer</td>\n",
    "<td>InnovateTech</td>\n",
    "<td>January 2023</td>\n",
    "<td>Join our team as a Senior Software Developer. Required expertise in React and Java. Familiarity with Spring framework preferred.</td>\n",
  "</tr>\n",
  "<tr>\n",
    "<td>10009781</td>\n",
    "<td>Full Stack Engineer</td>\n",
    "<td>Digital Solutions Inc.</td>\n",
    "<td>February 2023</td>\n",
    "<td>Seeking a Full Stack Engineer experienced in React and Java. Knowledge of Spring framework is highly desirable.</td>\n",
  "</tr>\n",
  "<tr>\n",
    "<td>10015921</td>\n",
    "<td>Backend Developer</td>\n",
    "<td>NextGen Software</td>\n",
    "<td>March 2023</td>\n",
    "<td>NextGen Software is hiring a Backend Developer proficient in Java. Experience with Spring framework is a must.</td>\n",
  "</tr>\n",
  "<!-- Add more job rows as needed -->\n",
"</tbody>\n",
       "</table>\n",
       "</div>"
      ],
      "text/plain": [
          "JobID                Title                Company                Date  \\\n",
            "0  10017413   Software Engineer               Tech Co.       December 2023  \n",
        "1  10016283  Senior Software Developer     InnovateTech        January 2023  \n",
        "2  10009781  Full Stack Engineer      Digital Solutions Inc.    February 2023  \n",
        "3  10015921  Backend Developer       NextGen Software            March 2023  \n",
        "4  10017833  Frontend Engineer       VisionaryTech              April 2023  \n",
        "\n",
        "                                 Description  \n",
        "0  Looking for a skilled Software Engineer pro...  \n",
        "1  Join our team as a Senior Software Develop...  \n",
        "2  Seeking a Full Stack Engineer experienced...  \n",
        "3  NextGen Software is hiring a Backend Deve...  \n",
        "4  VisionaryTech seeks a Frontend Engineer w...  \n"

      ]
     },
     "execution_count": 3,
     "metadata": {},
     "output_type": "execute_result"
    }
   ],
   "source": [
    "import pandas as pd\n",
    "\n",
    "df = pd.read_csv(\"myntra_products_catalog.csv\").loc[:499]\n",
    "df.head()"
   ]
  },
  {
   "cell_type": "code",
   "execution_count": 6,
   "metadata": {},
   "outputs": [
    {
     "data": {
      "text/plain": [
       "JobTitle  Company  Description  Date  Qualifications  Responsibilities  location  JobID\n",
       "False      False        False         False   False        False      False        False           500\n",
       "Name: count, dtype: int64"
      ]
     },
     "execution_count": 6,
     "metadata": {},
     "output_type": "execute_result"
    }
   ],
   "source": [
    "df.isna().value_counts()"
   ]
  },
  {
   "cell_type": "code",
   "execution_count": 5,
   "metadata": {},
   "outputs": [],
   "source": [
    "df.fillna(\"None\", inplace=True)"
   ]
  },
  {
   "cell_type": "markdown",
   "metadata": {},
   "source": [
    "## Convert the relevant field to Vector using BERT model"
   ]
  },
  {
   "cell_type": "code",
   "execution_count": 7,
   "metadata": {},
   "outputs": [
    {
     "name": "stderr",
     "output_type": "stream",
     "text": [
      "/Users/Mohamed/semantic_search/venv/lib/python3.9/site-packages/tqdm/auto.py:21: TqdmWarning: IProgress not found. Please update jupyter and ipywidgets. See https://ipywidgets.readthedocs.io/en/stable/user_install.html\n",
      "  from .autonotebook import tqdm as notebook_tqdm\n"
     ]
    }
   ],
   "source": [
    "from sentence_transformers import SentenceTransformer\n",
    "model = SentenceTransformer('all-mpnet-base-v2')"
   ]
  },
  {
   "cell_type": "code",
   "execution_count": 8,
   "metadata": {},
   "outputs": [],
   "source": [
    "df[\"DescriptionVector\"] = df[\"Description\"].apply(lambda x: model.encode(x))"
   ]
  },
  {
   "cell_type": "code",
   "execution_count": 9,
   "metadata": {},
   "outputs": [
    {
     "data": {
      "text/html": [
       "<div>\n",
       "<style scoped>\n",
       "    .dataframe tbody tr th:only-of-type {\n",
       "        vertical-align: middle;\n",
       "    }\n",
       "\n",
       "    .dataframe tbody tr th {\n",
       "        vertical-align: top;\n",
       "    }\n",
       "\n",
       "    .dataframe thead th {\n",
       "        text-align: right;\n",
       "    }\n",
       "</style>\n",
       "<table border=\"1\" class=\"dataframe\">\n",
       "  <thead>\n",
       "    <tr style=\"text-align: right;\">\n",
       "      <th></th>\n",
       "      <th>JobTitle</th>\n",
       "      <th>Company</th>\n",
       "      <th>Description</th>\n",
       "      <th>location</th>\n",
       "      <th>Date</th>\n",
       "      <th>Qualifications</th>\n",
       "      <th>Responsibilities</th>\n",
       "      <th>JobID</th>\n",
       "      <th>DescriptionVector</th>\n",
       "    </tr>\n",
       "  </thead>\n",
       "  <tbody>\n",
       "    <tr>\n",
       "      <th>0</th>\n",
       "      <td>10017413</td>\n",
       "      <td>Software Developper...</td>\n",
       "      <td>DKNY</td>\n",
       "      <td>full stack developer proficient in java</td>\n",
       "      <td>december 2023</td>\n",
       "      <td>maintain codebase</td>\n",
       "      <td>null...</td>\n",
       "      <td>1526</td>\n",
       "      <td>[0.027645726, -0.0026341523, -0.0035884595, 0....</td>\n",
       "    </tr>\n",   
       "  </tbody>\n",
       "</table>\n",
       "</div>"
      ],
      "text/plain": [
    
       "                                   DescriptionVector  \n",
       "0  [0.027645726, -0.0026341523, -0.0035884595, 0....  \n",
       "1  [-0.024660703, -0.028755462, -0.02033245, 0.03...  \n",
       "2  [-0.0469433, 0.08182786, 0.0483352, -0.0001582...  \n",
       "3  [-0.015098702, -0.010285483, 0.0094872955, -0....  \n",
       "4  [-0.017746529, 0.0062094983, 0.021813963, 0.02...  "
      ]
     },
     "execution_count": 9,
     "metadata": {},
     "output_type": "execute_result"
    }
   ],
   "source": [
    "df.head()"
   ]
  },
  {
   "cell_type": "code",
   "execution_count": 10,
   "metadata": {},
   "outputs": [
    {
     "data": {
      "text/plain": [
       "True"
      ]
     },
     "execution_count": 10,
     "metadata": {},
     "output_type": "execute_result"
    }
   ],
   "source": [
    "es.ping()"
   ]
  },
  {
   "cell_type": "markdown",
   "metadata": {},
   "source": [
    "## Create new index in ElasticSearch!"
   ]
  },
  {
   "cell_type": "code",
   "execution_count": 12,
   "metadata": {},
   "outputs": [
    {
     "data": {
      "text/plain": [
       "ObjectApiResponse({'acknowledged': True, 'shards_acknowledged': True, 'index': 'all_jobs'})"
      ]
     },
     "execution_count": 12,
     "metadata": {},
     "output_type": "execute_result"
    }
   ],
   "source": [
    "from indexMapping import indexMapping\n",
    "\n",
    "es.indices.create(index=\"all_jobss\", mappings=indexMapping)"
   ]
  },
  {
   "cell_type": "markdown",
   "metadata": {},
   "source": [
    "## Ingest the data into index"
   ]
  },
  {
   "cell_type": "code",
   "execution_count": 14,
   "metadata": {},
   "outputs": [],
   "source": [
    "record_list = df.to_dict(\"records\")"
   ]
  },
  {
   "cell_type": "code",
   "execution_count": 16,
   "metadata": {},
   "outputs": [],
   "source": [
    "for record in record_list:\n",
    "    try:\n",
    "        es.index(index=\"all_jobs\", document=record, id=record[\"ProductID\"])\n",
    "    except Exception as e:\n",
    "        print(e)"
   ]
  },
  {
   "cell_type": "code",
   "execution_count": 17,
   "metadata": {},
   "outputs": [
    {
     "data": {
      "text/plain": [
       "ObjectApiResponse({'count': 500, '_shards': {'total': 1, 'successful': 1, 'skipped': 0, 'failed': 0}})"
      ]
     },
     "execution_count": 17,
     "metadata": {},
     "output_type": "execute_result"
    }
   ],
   "source": [
    "es.count(index=\"all_products\")"
   ]
  },
  {
   "cell_type": "markdown",
   "metadata": {},
   "source": [
    "## Search the data"
   ]
  },
  {
   "cell_type": "code",
   "execution_count": 19,
   "metadata": {},
   "outputs": [
    {
     "name": "stderr",
     "output_type": "stream",
     "text": [
      "/var/folders/3k/901cf0jd1lngqxfl_y527qp00000gn/T/ipykernel_22712/2784084207.py:11: ElasticsearchWarning: The kNN search API has been replaced by the `knn` option in the search API.\n",
      "  res = es.knn_search(index=\"all_products\", knn=query , source=[\"ProductName\",\"Description\"])\n"
     ]
    },
    {
     "data": {
      "text/plain": [
       "[{'_index': 'all_jobs',\n",
       "  '_id': '10018013',\n",
       "  '_score': 0.61429405,\n",
       "  '_source': {'JobTitle': 'Senior Java Developer',\n",
       "   'Description': 'A full stack web developer'}},\n"
      ]
     },
     "execution_count": 19,
     "metadata": {},
     "output_type": "execute_result"
    }
   ],
   "source": [
    "input_keyword = \"Blue Shoes\"\n",
    "vector_of_input_keyword = model.encode(input_keyword)\n",
    "\n",
    "query = {\n",
    "    \"field\" : \"DescriptionVector\",\n",
    "    \"query_vector\" : vector_of_input_keyword,\n",
    "    \"k\" : 2,\n",
    "    \"num_candidates\" : 500, \n",
    "}\n",
    "\n",
    "res = es.knn_search(index=\"all_products\", knn=query , source=[\"ProductName\",\"Description\"])\n",
    "res[\"hits\"][\"hits\"]"
   ]
  },
  {
   "cell_type": "code",
   "execution_count": null,
   "metadata": {},
   "outputs": [],
   "source": []
  }
 ],
 "metadata": {
  "kernelspec": {
   "display_name": "venv",
   "language": "python",
   "name": "python3"
  },
  "language_info": {
   "codemirror_mode": {
    "name": "ipython",
    "version": 3
   },
   "file_extension": ".py",
   "mimetype": "text/x-python",
   "name": "python",
   "nbconvert_exporter": "python",
   "pygments_lexer": "ipython3",
   "version": "3.9.6"
  },
  "orig_nbformat": 4
 },
 "nbformat": 4,
 "nbformat_minor": 2
}